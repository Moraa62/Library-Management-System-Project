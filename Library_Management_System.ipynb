{
 "cells": [
  {
   "cell_type": "code",
   "execution_count": null,
   "id": "54a8c480-d05b-4ab7-b889-41e9a938dc20",
   "metadata": {},
   "outputs": [],
   "source": [
    "#This is a Library management system\n",
    "#Step 1 is to import the necessary libraries"
   ]
  },
  {
   "cell_type": "code",
   "execution_count": 548,
   "id": "2ed41b60-3666-4eed-9ed4-55c871b45977",
   "metadata": {},
   "outputs": [],
   "source": [
    "import datetime"
   ]
  },
  {
   "cell_type": "code",
   "execution_count": 10,
   "id": "8c450082-cac2-4881-b65e-31468c7f4c6b",
   "metadata": {},
   "outputs": [],
   "source": [
    "#Let's define our data structures and add data into them.This will include lists and a dictionary"
   ]
  },
  {
   "cell_type": "code",
   "execution_count": 583,
   "id": "e4dc2b49-98c7-431e-ba4c-f6b42c948094",
   "metadata": {},
   "outputs": [],
   "source": [
    "library_books = [\n",
    "    {'book_id': 45, 'title': 'They Killed Tyrone', 'author': 'Miguna Miguna', 'available': True},\n",
    "    {'book_id': 46, 'title': 'Last Night', 'author': 'Jane Doe', 'available': True},\n",
    "    {'book_id': 47, 'title': 'Just the 2 of Us', 'author': 'Marsai Martin', 'available': False}, \n",
    "    {'book_id': 48, 'title': 'FBI Agents', 'author':'Tom Cruise', 'available': True},\n",
    "    {'book_id': 49, 'title': 'They last piece of you', 'author': 'Mariah Carey', 'available': True},\n",
    "    {'book_id': 50, 'title': 'Scream', 'author': 'Undertaker', 'available': True},\n",
    "    {'book_id': 51, 'title': 'Prison Break', 'author': 'Michael Scotfield', 'available': False},\n",
    "    {'book_id': 52, 'title': 'See you on the other side', 'author': 'Whitney Houston', 'available': True}\n",
    "]\n",
    "borrowed_books= {'book_id':51,'title':'Prison Break'},{'book_id':47,'title':'Just the 2 of us'}\n",
    "               \n",
    "\n",
    "users=['Redempta Moraa','Kamene Goro','Lukas Momanyi']\n"
   ]
  },
  {
   "cell_type": "code",
   "execution_count": 427,
   "id": "caa09bd6-86f9-4e64-8514-7a0f45718c56",
   "metadata": {},
   "outputs": [],
   "source": [
    "#In this step,we are going to define our Functions"
   ]
  },
  {
   "cell_type": "code",
   "execution_count": 667,
   "id": "5ed69c49-325f-4081-a6c3-a4c014e36ef7",
   "metadata": {},
   "outputs": [
    {
     "name": "stdout",
     "output_type": "stream",
     "text": [
      "Book 'The war within' by JF Kennedy added to the library.\n"
     ]
    }
   ],
   "source": [
    "#Function to add a book to the library\n",
    "\n",
    "\n",
    "def add_book(book_id,title,author):\n",
    "    my_book = {\n",
    "        'book_id':book_id,\n",
    "        'title': title,\n",
    "        'author': author,\n",
    "        'available': True\n",
    "    }\n",
    "    library_books.append(my_book) #Appending the book to the library\n",
    "    print(f\"Book '{title}' by {author} added to the library.\")\n",
    "    \n",
    "add_book(78,'The war within','JF Kennedy')\n",
    "   \n",
    "\n",
    "\n",
    "\n"
   ]
  },
  {
   "cell_type": "code",
   "execution_count": 669,
   "id": "17d3951d-5b3d-420a-9ad3-8fbcc4a42330",
   "metadata": {},
   "outputs": [
    {
     "name": "stdout",
     "output_type": "stream",
     "text": [
      "[{'book_id': 45, 'title': 'They Killed Tyrone', 'author': 'Miguna Miguna', 'available': True}, {'book_id': 46, 'title': 'Last Night', 'author': 'Jane Doe', 'available': True}, {'book_id': 47, 'title': 'Just the 2 of Us', 'author': 'Marsai Martin', 'available': False}, {'book_id': 48, 'title': 'FBI Agents', 'author': 'Tom Cruise', 'available': True}, {'book_id': 49, 'title': 'They last piece of you', 'author': 'Mariah Carey', 'available': True}, {'book_id': 50, 'title': 'Scream', 'author': 'Undertaker', 'available': True}, {'book_id': 51, 'title': 'Prison Break', 'author': 'Michael Scotfield', 'available': False}, {'book_id': 52, 'title': 'See you on the other side', 'author': 'Whitney Houston', 'available': True}, {'book_id': '690', 'title': 'Vampire Diaries', 'author': 'Damom Stefan', 'available': True}, {'book_id': 78, 'title': 'The war within', 'author': 'JF Kennedy', 'available': True}]\n"
     ]
    }
   ],
   "source": [
    "#Let us confirm if it is part of the books in the library\n",
    "\n",
    "print(library_books)"
   ]
  },
  {
   "cell_type": "code",
   "execution_count": 665,
   "id": "a8e2ac83-0ec3-4f8f-967a-6b5d1658eaf9",
   "metadata": {},
   "outputs": [
    {
     "name": "stdin",
     "output_type": "stream",
     "text": [
      "Which book are you looking for? Prison Break\n"
     ]
    },
    {
     "name": "stdout",
     "output_type": "stream",
     "text": [
      "ID: 51, Title: Prison Break, Author: Michael Scotfield, status: Borrowed\n"
     ]
    }
   ],
   "source": [
    "def search_book(title):\n",
    "    found_books = [book for book in library_books\n",
    "                   if title.lower() in book['title'].lower()]\n",
    "    if found_books:\n",
    "\n",
    "        for book in found_books:\n",
    "            status=\"Available\" if book [\"available\"] else \"Borrowed\"\n",
    "            print(f\"ID: {book['book_id']}, Title: {book['title']}, Author: {book['author']}, status: {status}\")\n",
    "    else:\n",
    "        print(f\"No books found with title '{title}'.\")\n",
    "\n",
    "search_book((input('Which book are you looking for?' )))\n",
    "            \n",
    "\n"
   ]
  },
  {
   "cell_type": "code",
   "execution_count": null,
   "id": "ea0c1780-ff09-4db7-96a8-6a1e6aff7b3c",
   "metadata": {},
   "outputs": [],
   "source": []
  },
  {
   "cell_type": "code",
   "execution_count": null,
   "id": "ccdb9146-ee4c-463b-bbde-08f95ef9b7e1",
   "metadata": {},
   "outputs": [],
   "source": [
    "#Let us see how the code would look like if title of book is not found"
   ]
  },
  {
   "cell_type": "code",
   "execution_count": 661,
   "id": "c76b50bd-c446-4d57-aee2-a32276162202",
   "metadata": {},
   "outputs": [
    {
     "name": "stdin",
     "output_type": "stream",
     "text": [
      "Which book are you looking for? Manhattan\n"
     ]
    },
    {
     "name": "stdout",
     "output_type": "stream",
     "text": [
      "No books found with title 'Manhattan'.\n"
     ]
    }
   ],
   "source": [
    "def search_book(title):\n",
    "    found_books = [book for book in library_books\n",
    "                   if title.lower() in book['title'].lower()]\n",
    "    if found_books:\n",
    "\n",
    "        for book in found_books:\n",
    "            status=\"Available\" if book [\"available\"] else \"Borrowed\"\n",
    "            print(f\"ID: {book['book_id']}, Title: {book['title']}, Author: {book['author']}, status: {status}\")\n",
    "    else:\n",
    "        print(f\"No books found with title '{title}'.\")\n",
    "\n",
    "search_book((input('Which book are you looking for?' )))\n",
    "            \n",
    "\n"
   ]
  },
  {
   "cell_type": "code",
   "execution_count": 659,
   "id": "e8ca6384-e562-42ac-b4e8-702dc2e41b79",
   "metadata": {},
   "outputs": [
    {
     "name": "stdout",
     "output_type": "stream",
     "text": [
      "Book 'Vampire Diaries' borrowed by Kamene Goro on 2024-10-24  10:50:45.\n"
     ]
    }
   ],
   "source": [
    "#Let's create a function to Borrow a book\n",
    "\n",
    "borrowed_books= []\n",
    "\n",
    "def borrow_book(user,book_id):\n",
    "    #We will check if the specified book is available and mark it as borrowed\n",
    "    borrow_date=datetime.datetime.now()\n",
    "    for book in library_books:\n",
    "        if book[\"book_id\"] == book_id:\n",
    "           if book[\"available\"]:book[\"available\"]=false #mark the book as unavailable\n",
    "    borrowed_books.append({'book_id':book_id,\"user\":user,\"borrow_date\": borrow_date}) #This records the date the book was borrowed\n",
    "    print(f\"Book '{book['title']}' borrowed by {user} on {borrow_date.strftime('%Y-%m-%d  %H:%M:%S')}.\")\n",
    "    return\n",
    "    print('Book not available or does not exist.')\n",
    "\n",
    "borrow_book('Kamene Goro',51)\n"
   ]
  },
  {
   "cell_type": "code",
   "execution_count": null,
   "id": "f925cb86-4598-429c-9664-2da0ea42a72a",
   "metadata": {},
   "outputs": [],
   "source": [
    "#In this next step we are creating a functionto Return a book"
   ]
  },
  {
   "cell_type": "code",
   "execution_count": 651,
   "id": "c7b7590e-6d6f-4a20-8798-694c04e484d8",
   "metadata": {},
   "outputs": [
    {
     "name": "stdin",
     "output_type": "stream",
     "text": [
      "Which book ID are you returning? 46\n"
     ]
    },
    {
     "name": "stdout",
     "output_type": "stream",
     "text": [
      "Book not found in borrowed books\n"
     ]
    }
   ],
   "source": [
    "def return_book(book_id):\n",
    "    #We will check if  the book is in borrowed books and mark it as available\n",
    "    if book_id in borrowed_books:\n",
    "        for book in library_books:\n",
    "            if book[\"book_id\"]==book_id:\n",
    "                book[\"available\"]=True\n",
    "                borrowed_books.pop(book_id)\n",
    "                print(f\"Book '{book['title']}' returned.\")\n",
    "                return\n",
    "    print(\"Book not found in borrowed books\")\n",
    "\n",
    "return_book(int((input('Which book ID are you returning?' ))))"
   ]
  },
  {
   "cell_type": "code",
   "execution_count": null,
   "id": "cd064541-2039-410c-9194-7e43dc396431",
   "metadata": {},
   "outputs": [],
   "source": [
    "#In this final step we are going to implement user interaction to our system to perform library operations"
   ]
  },
  {
   "cell_type": "code",
   "execution_count": 649,
   "id": "baa77292-d54f-4f96-924d-ecfff71332e5",
   "metadata": {},
   "outputs": [
    {
     "name": "stdout",
     "output_type": "stream",
     "text": [
      "\n",
      " Library Management System\n",
      "1.Add Book\n",
      "2.Search Book\n",
      "3.Borrow Book\n",
      "4.Return Book\n",
      "5.Exit\n"
     ]
    },
    {
     "name": "stdin",
     "output_type": "stream",
     "text": [
      "Enter your choice:  3\n",
      "Enter your name:  Kamene Goro\n",
      "Enter book ID to borrow:  48\n"
     ]
    },
    {
     "name": "stdout",
     "output_type": "stream",
     "text": [
      "Book 'See you on the other side' borrowed by Kamene Goro on 2024-10-24  10:48:35.\n",
      "\n",
      " Library Management System\n",
      "1.Add Book\n",
      "2.Search Book\n",
      "3.Borrow Book\n",
      "4.Return Book\n",
      "5.Exit\n"
     ]
    },
    {
     "name": "stdin",
     "output_type": "stream",
     "text": [
      "Enter your choice:  1\n",
      "Enter book ID:  690\n",
      "Enter book title:  Vampire Diaries\n",
      "Enter book author:  Damom Stefan\n"
     ]
    },
    {
     "name": "stdout",
     "output_type": "stream",
     "text": [
      "Book 'Vampire Diaries' by Damom Stefan added to the library.\n",
      "\n",
      " Library Management System\n",
      "1.Add Book\n",
      "2.Search Book\n",
      "3.Borrow Book\n",
      "4.Return Book\n",
      "5.Exit\n"
     ]
    },
    {
     "name": "stdin",
     "output_type": "stream",
     "text": [
      "Enter your choice:  5\n"
     ]
    },
    {
     "name": "stdout",
     "output_type": "stream",
     "text": [
      "Existing the sysytem.Goodbye!\n"
     ]
    }
   ],
   "source": [
    "def main():\n",
    "    #start an infinite loop for the library management system\n",
    "    while True:\n",
    "        print(\"\\n Library Management System\")\n",
    "        print(\"1.Add Book\")\n",
    "        print(\"2.Search Book\")\n",
    "        print(\"3.Borrow Book\")\n",
    "        print(\"4.Return Book\")\n",
    "        print(\"5.Exit\")\n",
    "        choice=input(\"Enter your choice: \")\n",
    "\n",
    "#Handling user choices for library operations\n",
    "        if choice=='1':\n",
    "            book_id=input(\"Enter book ID: \")\n",
    "            title = input(\"Enter book title: \")\n",
    "            author=input(\"Enter book author: \")\n",
    "            add_book(book_id,title,author)\n",
    "        elif choice=='2':\n",
    "            title=input(\"Enter book title to search: \")\n",
    "            search_book(title)\n",
    "        elif choice=='3':\n",
    "            user=input(\"Enter your name: \")\n",
    "            book_id=input(\"Enter book ID to borrow: \")\n",
    "            borrow_book(user,book_id)\n",
    "        elif choice=='4':\n",
    "            book_id=input(\"Enter book ID to return: \")\n",
    "            return_book(book_id)\n",
    "        elif choice=='5':\n",
    "            print(\"Existing the sysytem.Goodbye!\")\n",
    "            break\n",
    "        else:\n",
    "            print(\"Invalid choice.Please try again.\")\n",
    "\n",
    "\n",
    "main()"
   ]
  },
  {
   "cell_type": "code",
   "execution_count": null,
   "id": "fd4cb97b-413a-4c8c-991e-24530497ed79",
   "metadata": {},
   "outputs": [],
   "source": [
    "#This above is a simple illustration of how to manage a library system using python"
   ]
  },
  {
   "cell_type": "code",
   "execution_count": null,
   "id": "a908f0e2-1090-4060-9630-9d4abbd39b4b",
   "metadata": {},
   "outputs": [],
   "source": []
  },
  {
   "cell_type": "code",
   "execution_count": null,
   "id": "c200e51f-ef2d-46b9-a651-40ee9a5f9009",
   "metadata": {},
   "outputs": [],
   "source": []
  }
 ],
 "metadata": {
  "kernelspec": {
   "display_name": "Python 3 (ipykernel)",
   "language": "python",
   "name": "python3"
  },
  "language_info": {
   "codemirror_mode": {
    "name": "ipython",
    "version": 3
   },
   "file_extension": ".py",
   "mimetype": "text/x-python",
   "name": "python",
   "nbconvert_exporter": "python",
   "pygments_lexer": "ipython3",
   "version": "3.12.4"
  }
 },
 "nbformat": 4,
 "nbformat_minor": 5
}
